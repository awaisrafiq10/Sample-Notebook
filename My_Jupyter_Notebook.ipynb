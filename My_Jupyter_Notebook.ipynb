{
 "cells": [
  {
   "cell_type": "markdown",
   "id": "eb20a0ef",
   "metadata": {},
   "source": [
    "# My Jupyter Notebook on IBM Watson Studio"
   ]
  },
  {
   "cell_type": "markdown",
   "id": "7521a6e9",
   "metadata": {},
   "source": [
    "__Awais Rafiq__\n",
    "\n",
    "Python Developer"
   ]
  },
  {
   "cell_type": "markdown",
   "id": "0efcd0f4",
   "metadata": {},
   "source": [
    "_Enthusiast in Automation industry whether in IT world or Robotis world, That's why kickstarting passion with Data Science_"
   ]
  },
  {
   "cell_type": "markdown",
   "id": "fc9fef1d",
   "metadata": {},
   "source": [
    "### A greeting program to take input from user and send a greet message."
   ]
  },
  {
   "cell_type": "code",
   "execution_count": 1,
   "id": "43027637",
   "metadata": {},
   "outputs": [
    {
     "name": "stdout",
     "output_type": "stream",
     "text": [
      "What's Your Name?Awais\n",
      "Greetings...!  Awais\n"
     ]
    }
   ],
   "source": [
    "in1 = input(\"What's Your Name?\")\n",
    "print(\"Greetings...! \", in1)"
   ]
  },
  {
   "cell_type": "markdown",
   "id": "6b09f38e",
   "metadata": {},
   "source": [
    "- python\n",
    "- data science\n",
    "\n",
    "1. Machine Learning\n",
    "2. Artificial Intelligence\n",
    "\n",
    "~~ELON MUSK IS AN ALIEN~~"
   ]
  }
 ],
 "metadata": {
  "kernelspec": {
   "display_name": "Python 3 (ipykernel)",
   "language": "python",
   "name": "python3"
  },
  "language_info": {
   "codemirror_mode": {
    "name": "ipython",
    "version": 3
   },
   "file_extension": ".py",
   "mimetype": "text/x-python",
   "name": "python",
   "nbconvert_exporter": "python",
   "pygments_lexer": "ipython3",
   "version": "3.9.13"
  }
 },
 "nbformat": 4,
 "nbformat_minor": 5
}
